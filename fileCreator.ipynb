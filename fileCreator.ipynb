{
 "cells": [
  {
   "cell_type": "code",
   "execution_count": 2,
   "metadata": {},
   "outputs": [],
   "source": [
    "from datetime import datetime\n",
    "from helpers import *"
   ]
  },
  {
   "cell_type": "code",
   "execution_count": 3,
   "metadata": {},
   "outputs": [
    {
     "name": "stderr",
     "output_type": "stream",
     "text": [
      " 19%|█▊        | 68/365 [03:37<14:27,  2.92s/it]"
     ]
    },
    {
     "name": "stdout",
     "output_type": "stream",
     "text": [
      "No data available for date : 1898-03-10 00:00:00\n"
     ]
    },
    {
     "name": "stderr",
     "output_type": "stream",
     "text": [
      "100%|██████████| 365/365 [17:43<00:00,  2.91s/it]\n"
     ]
    }
   ],
   "source": [
    "###############           FIGARO ########################\n",
    "#### FOR A SINGLE date \n",
    "newspaper = Figaro()\n",
    "\n",
    "# Parameters\n",
    "dataFolder = \"./Ressources/Figaro\"\n",
    "date = datetime(1920,1,1) # Year, month, day\n",
    "resultFolder = \"./results\"\n",
    "\n",
    "# newspaper.treatDate(date,dataFolder,resultFolder)\n",
    "\n",
    "treatYear(newspaper,1898,dataFolder, resultFolder)\n",
    "# missing dates : 1898 03 10"
   ]
  },
  {
   "cell_type": "code",
   "execution_count": 4,
   "metadata": {},
   "outputs": [
    {
     "name": "stdout",
     "output_type": "stream",
     "text": [
      "Average ratio for 1920-12-05 00:00:00 :  0.8207073789111994\n",
      "Average ratio for 1920-12-05 00:00:00 :  0.8207073789111994\n",
      "Average ratio for 1920-12-06 00:00:00 :  0.8470762481663312\n",
      "Average ratio for 1920-12-07 00:00:00 :  0.8547998422032231\n",
      "Average ratio for 1920-12-08 00:00:00 :  0.8614221278430451\n",
      "Average ratio for 1920-12-09 00:00:00 :  0.8319376469472546\n",
      "Average ratio for 1920-12-10 00:00:00 :  0.8678838856488971\n",
      "Average ratio for 1920-12-11 00:00:00 :  0.8464912515622068\n",
      "Average ratio for 1920-12-12 00:00:00 :  0.8032733912149173\n",
      "Average ratio for 1920-12-13 00:00:00 :  0.8499640252090315\n",
      "Average ratio for 1920-12-14 00:00:00 :  0.8211030992590245\n",
      "Average ratio for 1920-12-15 00:00:00 :  0.849582643092874\n",
      "Average ratio for 1920-12-16 00:00:00 :  0.8490914567769892\n",
      "Average ratio for 1920-12-17 00:00:00 :  0.8605849484931605\n",
      "Average ratio for 1920-12-18 00:00:00 :  0.8589818400263824\n",
      "Average ratio for 1920-12-19 00:00:00 :  0.8279224105935\n",
      "Average ratio for 1920-12-20 00:00:00 :  0.8651829570128511\n",
      "Average ratio for 1920-12-21 00:00:00 :  0.8281065238859855\n",
      "Average ratio for 1920-12-22 00:00:00 :  0.8395109778354447\n",
      "Average ratio for 1920-12-23 00:00:00 :  0.8531682606974716\n",
      "Average ratio for 1920-12-24 00:00:00 :  0.8458308874831453\n",
      "Average ratio for 1920-12-25 00:00:00 :  0.87113272737169\n",
      "Average ratio for 1920-12-26 00:00:00 :  0.8184283124152842\n",
      "Average ratio for 1920-12-27 00:00:00 :  0.8762940417926122\n",
      "Average ratio for 1920-12-28 00:00:00 :  0.8730798490687937\n",
      "Average ratio for 1920-12-29 00:00:00 :  0.8563179380573209\n",
      "Average ratio for 1920-12-30 00:00:00 :  0.8461902817434287\n",
      "Average ratio for 1920-12-31 00:00:00 :  0.8574305274924804\n"
     ]
    }
   ],
   "source": [
    "###############           NYT       ########################\n",
    "#### FOR A SINGLE date \n",
    "newspaper = NYT()\n",
    "\n",
    "# Parameters\n",
    "dataFolder = \"./Ressources/NYT\"\n",
    "date = datetime(1920,12,5) # Year, month, day\n",
    "resultFolder = \"./results\"\n",
    "\n",
    "newspaper.treatDate(date,dataFolder,resultFolder)\n",
    "treatYear(newspaper,1920,dataFolder, resultFolder)\n",
    "\n",
    "\n"
   ]
  },
  {
   "cell_type": "code",
   "execution_count": 3,
   "metadata": {},
   "outputs": [
    {
     "name": "stdout",
     "output_type": "stream",
     "text": [
      "Average ratio for 1898-01-01 00:00:00 :  0.6799755309587436\n"
     ]
    },
    {
     "name": "stderr",
     "output_type": "stream",
     "text": [
      " 25%|██▍       | 90/365 [02:26<06:34,  1.44s/it]"
     ]
    },
    {
     "name": "stdout",
     "output_type": "stream",
     "text": [
      "No data available for date : 1898-04-01 00:00:00\n"
     ]
    },
    {
     "name": "stderr",
     "output_type": "stream",
     "text": [
      " 32%|███▏      | 117/365 [03:05<05:58,  1.45s/it]"
     ]
    },
    {
     "name": "stdout",
     "output_type": "stream",
     "text": [
      "No data available for date : 1898-04-28 00:00:00\n",
      "No data available for date : 1898-04-29 00:00:00\n",
      "No data available for date : 1898-04-30 00:00:00\n"
     ]
    },
    {
     "name": "stderr",
     "output_type": "stream",
     "text": [
      " 47%|████▋     | 171/365 [04:29<05:47,  1.79s/it]"
     ]
    },
    {
     "name": "stdout",
     "output_type": "stream",
     "text": [
      "No data available for date : 1898-06-21 00:00:00\n"
     ]
    },
    {
     "name": "stderr",
     "output_type": "stream",
     "text": [
      " 50%|████▉     | 181/365 [04:43<04:34,  1.49s/it]"
     ]
    },
    {
     "name": "stdout",
     "output_type": "stream",
     "text": [
      "No data available for date : 1898-07-01 00:00:00\n"
     ]
    },
    {
     "name": "stderr",
     "output_type": "stream",
     "text": [
      "100%|██████████| 365/365 [10:00<00:00,  1.65s/it]\n"
     ]
    }
   ],
   "source": [
    "###############           EL Imparcial       ########################\n",
    "#### FOR A SINGLE date \n",
    "newspaper = Imparcial()\n",
    "\n",
    "# Parameters\n",
    "dataFolder = \"./Ressources/Imparcial\"\n",
    "date = datetime(1898,1,1) # Year, month, day\n",
    "resultFolder = \"./results\"\n",
    "\n",
    "newspaper.treatDate(date,dataFolder,resultFolder)\n",
    "treatYear(newspaper,1898,dataFolder, resultFolder)\n"
   ]
  },
  {
   "cell_type": "code",
   "execution_count": 6,
   "metadata": {},
   "outputs": [
    {
     "name": "stderr",
     "output_type": "stream",
     "text": []
    },
    {
     "name": "stdout",
     "output_type": "stream",
     "text": [
      "Average ratio for 1879-01-01 00:00:00 :  0.5557030129069214\n"
     ]
    },
    {
     "name": "stderr",
     "output_type": "stream",
     "text": []
    },
    {
     "name": "stdout",
     "output_type": "stream",
     "text": [
      "No data available for date : 1879-12-14 00:00:00\n"
     ]
    },
    {
     "name": "stderr",
     "output_type": "stream",
     "text": []
    },
    {
     "name": "stdout",
     "output_type": "stream",
     "text": [
      "No data available for date : 1879-12-26 00:00:00\n"
     ]
    },
    {
     "name": "stderr",
     "output_type": "stream",
     "text": [
      "100%|██████████| 365/365 [57:47<00:00,  9.50s/it]\n"
     ]
    }
   ],
   "source": [
    "import re \n",
    "from helpers import *\n",
    "import os\n",
    "import enchant\n",
    "from glob import glob\n",
    "dataFolder = \"./Ressources/Berlin\"\n",
    "resultFolder = \"./results\"\n",
    "date = datetime(1879,1,1) # Year, month, day\n",
    "\n",
    "newspaper = Berlin()\n",
    "newspaper.treatDate(date,dataFolder,resultFolder)\n",
    "treatYear(newspaper,1879,dataFolder, resultFolder)\n",
    "\n"
   ]
  },
  {
   "cell_type": "code",
   "execution_count": 20,
   "metadata": {},
   "outputs": [
    {
     "data": {
      "text/plain": [
       "554"
      ]
     },
     "execution_count": 20,
     "metadata": {},
     "output_type": "execute_result"
    }
   ],
   "source": [
    "len(results)"
   ]
  },
  {
   "cell_type": "code",
   "execution_count": null,
   "metadata": {},
   "outputs": [],
   "source": []
  }
 ],
 "metadata": {
  "interpreter": {
   "hash": "29267a2f9a0415807edd32e54430e54481564f4f90864a6d82babf0d08dadda0"
  },
  "kernelspec": {
   "display_name": "Python 3.8.12 ('p38')",
   "language": "python",
   "name": "python3"
  },
  "language_info": {
   "codemirror_mode": {
    "name": "ipython",
    "version": 3
   },
   "file_extension": ".py",
   "mimetype": "text/x-python",
   "name": "python",
   "nbconvert_exporter": "python",
   "pygments_lexer": "ipython3",
   "version": "3.8.12"
  },
  "orig_nbformat": 4
 },
 "nbformat": 4,
 "nbformat_minor": 2
}
