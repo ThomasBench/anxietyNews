{
 "cells": [
  {
   "cell_type": "code",
   "execution_count": 6,
   "metadata": {},
   "outputs": [],
   "source": [
    "# from spacy import load, prefer_gpu \n",
    "from helpers import get_dates_from_file\n",
    "from glob import glob\n",
    "from tqdm import tqdm\n",
    "from datetime import datetime\n",
    "import pandas as pd \n",
    "from spacy import load, prefer_gpu, displacy\n",
    "import spacy\n",
    "from transformers import AutoTokenizer, AutoModelForTokenClassification\n",
    "from transformers import pipeline\n",
    "# !pip install https://huggingface.co/csae8092/de_MRP_NER/resolve/main/de_MRP_NER-any-py3-none-any.whl --user\n",
    "tokenizer = AutoTokenizer.from_pretrained(\"Jean-Baptiste/camembert-ner-with-dates\")\n",
    "model = AutoModelForTokenClassification.from_pretrained(\"Jean-Baptiste/camembert-ner-with-dates\")\n",
    "prefer_gpu()\n",
    "\n",
    "# Parameters\n",
    "useSpacy = True\n",
    "folder = \"./results/NYT\"\n",
    "language = \"en\"\n",
    "model_dict = {\n",
    "    \"fr\" : pipeline('ner', model=model, tokenizer=tokenizer, aggregation_strategy=\"simple\", device = 0),\n",
    "    #\"de\" : load(\"de_RTA_NER\"),\n",
    "    \"en\" : load(\"en_core_web_trf\")\n",
    "}\n",
    "\n",
    "nlp = model_dict[language]\n",
    "\n"
   ]
  },
  {
   "cell_type": "code",
   "execution_count": null,
   "metadata": {},
   "outputs": [],
   "source": [
    "# folder = \"./results/Figaro\"\n",
    "year = 1920\n",
    "def sample_year(folder: str, year: int, lt: int, rt: float, nb_sample = 200):\n",
    "    path = folder  + \"/\" + str(year)\n",
    "    results = []\n",
    "    for file in tqdm(glob(path + \"/*/*.csv\")):        # Compute the nb of dates\n",
    "        results.append(pd.read_csv(file))\n",
    "    df = pd.concat(results)\n",
    "    df = df[(df.Length > lt) & (df.Ratio > rt)]\n",
    "    sampled_df = df.sample(n = nb_sample)\n",
    "    return sampled_df\n",
    "\n",
    "to_anotate = sample_year(folder, year,100,0.8)\n",
    "to_anotate.to_csv(\"to_annotate.csv\")\n",
    "to_anotate = pd.read_csv(\"to_annotate.csv\")\n",
    "\n",
    "def annotation_generator(df: pd.DataFrame, pipeline):\n",
    "    for i, elem in enumerate(df.Text):\n",
    "        doc = pipeline(elem)\n",
    "        print(doc)\n",
    "        displacy.serve(doc, style=\"ent\")\n",
    "        yield i\n"
   ]
  },
  {
   "cell_type": "code",
   "execution_count": 8,
   "metadata": {},
   "outputs": [],
   "source": [
    "def annotation_generator(df: pd.DataFrame, pipeline):\n",
    "    for i, elem in enumerate(df.Text[30:]):\n",
    "        doc = pipeline(elem)\n",
    "        print(i)\n",
    "        displacy.serve(doc, style=\"ent\")\n",
    "        yield i\n",
    "generator = annotation_generator(to_anotate,nlp)"
   ]
  },
  {
   "cell_type": "code",
   "execution_count": 11,
   "metadata": {},
   "outputs": [
    {
     "name": "stdout",
     "output_type": "stream",
     "text": [
      "2\n"
     ]
    },
    {
     "data": {
      "text/html": [
       "<span class=\"tex2jax_ignore\"><!DOCTYPE html>\n",
       "<html lang=\"en\">\n",
       "    <head>\n",
       "        <title>displaCy</title>\n",
       "    </head>\n",
       "\n",
       "    <body style=\"font-size: 16px; font-family: -apple-system, BlinkMacSystemFont, 'Segoe UI', Helvetica, Arial, sans-serif, 'Apple Color Emoji', 'Segoe UI Emoji', 'Segoe UI Symbol'; padding: 4rem 2rem; direction: ltr\">\n",
       "<figure style=\"margin-bottom: 6rem\">\n",
       "<div class=\"entities\" style=\"line-height: 2.5; direction: ltr\">mner case an oramaniy rast walker could soon distance them The python movements are a little more rapid than the boa but the man escaping from the python could easily keep ahead of him sidestep him as It were and stop and light his pipe to enJoy a smoke while the chase was on Yes the naturalist mused It seems too bad to discredit all the movie stories of these big reptiles told and reiterated long before there were movies it is a shame to take all this additional excitement out of the \n",
       "<mark class=\"entity\" style=\"background: #ff9561; padding: 0.45em 0.6em; margin: 0 0.25em; line-height: 1; border-radius: 0.35em;\">\n",
       "    Jungle\n",
       "    <span style=\"font-size: 0.8em; font-weight: bold; line-height: 1; border-radius: 0.35em; vertical-align: middle; margin-left: 0.5rem\">LOC</span>\n",
       "</mark>\n",
       " but these are the scientific facte And after all let the facts be printed ever so often people will shudder as of old when the returned traveller serves out again the familiar old Ue The boa constrictor appears in several species Inhabiting tropical \n",
       "<mark class=\"entity\" style=\"background: #ff9561; padding: 0.45em 0.6em; margin: 0 0.25em; line-height: 1; border-radius: 0.35em;\">\n",
       "    South America\n",
       "    <span style=\"font-size: 0.8em; font-weight: bold; line-height: 1; border-radius: 0.35em; vertical-align: middle; margin-left: 0.5rem\">LOC</span>\n",
       "</mark>\n",
       " All are slow moving and no species has displayed malice toward man or even revenge unless violently attacked It Is possible that boa would strike out against a man if he came too near but the big snake attitude Is lalstez faire let me alone and I let you alone Also if It came to a chase a fast walker could easily get away from the boa \n",
       "<mark class=\"entity\" style=\"background: #e4e7d2; padding: 0.45em 0.6em; margin: 0 0.25em; line-height: 1; border-radius: 0.35em;\">\n",
       "    One\n",
       "    <span style=\"font-size: 0.8em; font-weight: bold; line-height: 1; border-radius: 0.35em; vertical-align: middle; margin-left: 0.5rem\">CARDINAL</span>\n",
       "</mark>\n",
       " of the constrictor species which grows to the length of \n",
       "<mark class=\"entity\" style=\"background: #e4e7d2; padding: 0.45em 0.6em; margin: 0 0.25em; line-height: 1; border-radius: 0.35em;\">\n",
       "    twelve feet\n",
       "    <span style=\"font-size: 0.8em; font-weight: bold; line-height: 1; border-radius: 0.35em; vertical-align: middle; margin-left: 0.5rem\">QUANTITY</span>\n",
       "</mark>\n",
       " Is fitted Mr</div>\n",
       "</figure>\n",
       "</body>\n",
       "</html></span>"
      ],
      "text/plain": [
       "<IPython.core.display.HTML object>"
      ]
     },
     "metadata": {},
     "output_type": "display_data"
    },
    {
     "name": "stdout",
     "output_type": "stream",
     "text": [
      "\n",
      "Using the 'ent' visualizer\n",
      "Serving on http://0.0.0.0:5000 ...\n",
      "\n",
      "Shutting down server on port 5000.\n"
     ]
    },
    {
     "data": {
      "text/plain": [
       "2"
      ]
     },
     "execution_count": 11,
     "metadata": {},
     "output_type": "execute_result"
    }
   ],
   "source": [
    "next(generator)"
   ]
  },
  {
   "cell_type": "code",
   "execution_count": 45,
   "metadata": {},
   "outputs": [],
   "source": [
    "to_anotate.Text.to_csv('filepath.txt', sep=' ', index=False)\n",
    "def fr_annotation_generator(df):\n",
    "    for i, elem in enumerate(df.Text):\n",
    "        doc = nlp(elem)\n",
    "        print([d[\"word\"] for d in doc if d[\"entity_group\"] ==\"DATE\"])\n",
    "        yield i\n",
    "generator = fr_annotation_generator(to_anotate)"
   ]
  },
  {
   "cell_type": "code",
   "execution_count": 71,
   "metadata": {},
   "outputs": [
    {
     "name": "stdout",
     "output_type": "stream",
     "text": [
      "['hier matin']\n"
     ]
    },
    {
     "data": {
      "text/plain": [
       "25"
      ]
     },
     "execution_count": 71,
     "metadata": {},
     "output_type": "execute_result"
    }
   ],
   "source": [
    "next(generator)"
   ]
  }
 ],
 "metadata": {
  "interpreter": {
   "hash": "2c08fb7d0681ab80e3191df3cdd3d9ae56e033f792b7fa01572cc6446116ecae"
  },
  "kernelspec": {
   "display_name": "Python 3.8.12 ('p38')",
   "language": "python",
   "name": "python3"
  },
  "language_info": {
   "codemirror_mode": {
    "name": "ipython",
    "version": 3
   },
   "file_extension": ".py",
   "mimetype": "text/x-python",
   "name": "python",
   "nbconvert_exporter": "python",
   "pygments_lexer": "ipython3",
   "version": "3.8.12"
  },
  "orig_nbformat": 4
 },
 "nbformat": 4,
 "nbformat_minor": 2
}
