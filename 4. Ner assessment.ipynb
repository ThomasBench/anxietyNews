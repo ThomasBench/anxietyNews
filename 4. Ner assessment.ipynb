{
 "cells": [
  {
   "cell_type": "code",
   "execution_count": 6,
   "metadata": {},
   "outputs": [],
   "source": [
    "# from spacy import load, prefer_gpu \n",
    "from helpers import get_dates_from_file\n",
    "from glob import glob\n",
    "from tqdm import tqdm\n",
    "from datetime import datetime\n",
    "import pandas as pd \n",
    "from spacy import load, prefer_gpu, displacy\n",
    "import spacy\n",
    "from transformers import AutoTokenizer, AutoModelForTokenClassification\n",
    "from transformers import pipeline\n",
    "# !pip install https://huggingface.co/csae8092/de_MRP_NER/resolve/main/de_MRP_NER-any-py3-none-any.whl --user\n",
    "tokenizer = AutoTokenizer.from_pretrained(\"Jean-Baptiste/camembert-ner-with-dates\")\n",
    "model = AutoModelForTokenClassification.from_pretrained(\"Jean-Baptiste/camembert-ner-with-dates\")\n",
    "prefer_gpu()\n",
    "\n",
    "# Parameters\n",
    "useSpacy = True\n",
    "folder = \"./results/NYT\"\n",
    "language = \"en\"\n",
    "model_dict = {\n",
    "    \"fr\" : pipeline('ner', model=model, tokenizer=tokenizer, aggregation_strategy=\"simple\", device = 0),\n",
    "    #\"de\" : load(\"de_RTA_NER\"),\n",
    "    \"en\" : load(\"en_core_web_trf\")\n",
    "\n",
    "}\n",
    "\n",
    "nlp = model_dict[language]\n",
    "\n"
   ]
  },
  {
   "cell_type": "code",
   "execution_count": 7,
   "metadata": {},
   "outputs": [
    {
     "name": "stderr",
     "output_type": "stream",
     "text": [
      "  3%|▎         | 3/92 [00:00<00:03, 27.27it/s]"
     ]
    },
    {
     "name": "stdout",
     "output_type": "stream",
     "text": [
      "./results/NYT/1920\\10\\01.csv\n",
      "./results/NYT/1920\\10\\02.csv\n",
      "./results/NYT/1920\\10\\03.csv\n",
      "./results/NYT/1920\\10\\04.csv\n",
      "./results/NYT/1920\\10\\05.csv\n",
      "./results/NYT/1920\\10\\06.csv\n",
      "./results/NYT/1920\\10\\07.csv\n",
      "./results/NYT/1920\\10\\08.csv\n",
      "./results/NYT/1920\\10\\09.csv\n"
     ]
    },
    {
     "name": "stderr",
     "output_type": "stream",
     "text": [
      " 16%|█▋        | 15/92 [00:00<00:02, 35.72it/s]"
     ]
    },
    {
     "name": "stdout",
     "output_type": "stream",
     "text": [
      "./results/NYT/1920\\10\\10.csv\n",
      "./results/NYT/1920\\10\\11.csv\n",
      "./results/NYT/1920\\10\\12.csv\n",
      "./results/NYT/1920\\10\\13.csv\n",
      "./results/NYT/1920\\10\\14.csv\n",
      "./results/NYT/1920\\10\\15.csv\n",
      "./results/NYT/1920\\10\\16.csv\n",
      "./results/NYT/1920\\10\\17.csv\n",
      "./results/NYT/1920\\10\\18.csv\n",
      "./results/NYT/1920\\10\\19.csv\n"
     ]
    },
    {
     "name": "stderr",
     "output_type": "stream",
     "text": [
      " 29%|██▉       | 27/92 [00:00<00:01, 43.67it/s]"
     ]
    },
    {
     "name": "stdout",
     "output_type": "stream",
     "text": [
      "./results/NYT/1920\\10\\20.csv\n",
      "./results/NYT/1920\\10\\21.csv\n",
      "./results/NYT/1920\\10\\22.csv\n",
      "./results/NYT/1920\\10\\23.csv\n",
      "./results/NYT/1920\\10\\24.csv\n",
      "./results/NYT/1920\\10\\25.csv\n",
      "./results/NYT/1920\\10\\26.csv\n",
      "./results/NYT/1920\\10\\27.csv\n",
      "./results/NYT/1920\\10\\28.csv\n",
      "./results/NYT/1920\\10\\29.csv\n",
      "./results/NYT/1920\\10\\30.csv\n",
      "./results/NYT/1920\\10\\31.csv\n"
     ]
    },
    {
     "name": "stderr",
     "output_type": "stream",
     "text": [
      " 41%|████▏     | 38/92 [00:00<00:01, 44.44it/s]"
     ]
    },
    {
     "name": "stdout",
     "output_type": "stream",
     "text": [
      "./results/NYT/1920\\11\\01.csv\n",
      "./results/NYT/1920\\11\\02.csv\n",
      "./results/NYT/1920\\11\\03.csv\n",
      "./results/NYT/1920\\11\\04.csv\n",
      "./results/NYT/1920\\11\\05.csv\n",
      "./results/NYT/1920\\11\\06.csv\n",
      "./results/NYT/1920\\11\\07.csv\n",
      "./results/NYT/1920\\11\\08.csv\n",
      "./results/NYT/1920\\11\\09.csv\n",
      "./results/NYT/1920\\11\\10.csv\n",
      "./results/NYT/1920\\11\\11.csv\n"
     ]
    },
    {
     "name": "stderr",
     "output_type": "stream",
     "text": [
      " 53%|█████▎    | 49/92 [00:01<00:00, 46.85it/s]"
     ]
    },
    {
     "name": "stdout",
     "output_type": "stream",
     "text": [
      "./results/NYT/1920\\11\\12.csv\n",
      "./results/NYT/1920\\11\\13.csv\n",
      "./results/NYT/1920\\11\\14.csv\n",
      "./results/NYT/1920\\11\\15.csv\n",
      "./results/NYT/1920\\11\\16.csv\n",
      "./results/NYT/1920\\11\\17.csv\n",
      "./results/NYT/1920\\11\\18.csv\n",
      "./results/NYT/1920\\11\\19.csv\n",
      "./results/NYT/1920\\11\\20.csv\n",
      "./results/NYT/1920\\11\\21.csv\n",
      "./results/NYT/1920\\11\\22.csv\n"
     ]
    },
    {
     "name": "stderr",
     "output_type": "stream",
     "text": [
      " 66%|██████▋   | 61/92 [00:01<00:00, 51.39it/s]"
     ]
    },
    {
     "name": "stdout",
     "output_type": "stream",
     "text": [
      "./results/NYT/1920\\11\\23.csv\n",
      "./results/NYT/1920\\11\\24.csv\n",
      "./results/NYT/1920\\11\\25.csv\n",
      "./results/NYT/1920\\11\\26.csv\n",
      "./results/NYT/1920\\11\\27.csv\n",
      "./results/NYT/1920\\11\\28.csv\n",
      "./results/NYT/1920\\11\\29.csv\n",
      "./results/NYT/1920\\11\\30.csv\n",
      "./results/NYT/1920\\12\\01.csv\n",
      "./results/NYT/1920\\12\\02.csv\n",
      "./results/NYT/1920\\12\\03.csv\n",
      "./results/NYT/1920\\12\\04.csv\n"
     ]
    },
    {
     "name": "stderr",
     "output_type": "stream",
     "text": [
      " 79%|███████▉  | 73/92 [00:01<00:00, 50.67it/s]"
     ]
    },
    {
     "name": "stdout",
     "output_type": "stream",
     "text": [
      "./results/NYT/1920\\12\\05.csv\n",
      "./results/NYT/1920\\12\\06.csv\n",
      "./results/NYT/1920\\12\\07.csv\n",
      "./results/NYT/1920\\12\\08.csv\n",
      "./results/NYT/1920\\12\\09.csv\n",
      "./results/NYT/1920\\12\\10.csv\n",
      "./results/NYT/1920\\12\\11.csv\n",
      "./results/NYT/1920\\12\\12.csv\n",
      "./results/NYT/1920\\12\\13.csv\n",
      "./results/NYT/1920\\12\\14.csv\n"
     ]
    },
    {
     "name": "stderr",
     "output_type": "stream",
     "text": [
      " 87%|████████▋ | 80/92 [00:01<00:00, 49.82it/s]"
     ]
    },
    {
     "name": "stdout",
     "output_type": "stream",
     "text": [
      "./results/NYT/1920\\12\\15.csv\n",
      "./results/NYT/1920\\12\\16.csv\n",
      "./results/NYT/1920\\12\\17.csv\n",
      "./results/NYT/1920\\12\\18.csv\n",
      "./results/NYT/1920\\12\\19.csv\n",
      "./results/NYT/1920\\12\\20.csv\n",
      "./results/NYT/1920\\12\\21.csv\n",
      "./results/NYT/1920\\12\\22.csv\n",
      "./results/NYT/1920\\12\\23.csv\n",
      "./results/NYT/1920\\12\\24.csv\n"
     ]
    },
    {
     "name": "stderr",
     "output_type": "stream",
     "text": [
      "100%|██████████| 92/92 [00:01<00:00, 50.97it/s]"
     ]
    },
    {
     "name": "stdout",
     "output_type": "stream",
     "text": [
      "./results/NYT/1920\\12\\25.csv\n",
      "./results/NYT/1920\\12\\26.csv\n",
      "./results/NYT/1920\\12\\27.csv\n",
      "./results/NYT/1920\\12\\28.csv\n",
      "./results/NYT/1920\\12\\29.csv\n",
      "./results/NYT/1920\\12\\30.csv\n",
      "./results/NYT/1920\\12\\31.csv\n"
     ]
    },
    {
     "name": "stderr",
     "output_type": "stream",
     "text": [
      "\n"
     ]
    }
   ],
   "source": [
    "# folder = \"./results/Figaro\"\n",
    "year = 1920\n",
    "def sample_year(folder: str, year: int, lt: int, rt: float, nb_sample = 200):\n",
    "    path = folder  + \"/\" + str(year)\n",
    "    results = []\n",
    "    for file in tqdm(glob(path + \"/*/*.csv\")):        # Compute the nb of dates\n",
    "        print(file)\n",
    "        results.append(pd.read_csv(file))\n",
    "    df = pd.concat(results)\n",
    "    df = df[(df.Length > lt) & (df.Ratio > rt)]\n",
    "    sampled_df = df.sample(n = nb_sample)\n",
    "    return sampled_df\n",
    "\n",
    "to_anotate = sample_year(folder, year,100,0.8)\n",
    "to_anotate.to_csv(\"to_annotate.csv\")\n",
    "to_anotate = pd.read_csv(\"to_annotate.csv\")\n",
    "\n",
    "def annotation_generator(df: pd.DataFrame, pipeline):\n",
    "    for i, elem in enumerate(df.Text):\n",
    "        doc = pipeline(elem)\n",
    "        print(doc)\n",
    "        displacy.serve(doc, style=\"ent\")\n",
    "        yield i\n"
   ]
  },
  {
   "cell_type": "code",
   "execution_count": 8,
   "metadata": {},
   "outputs": [],
   "source": [
    "def annotation_generator(df: pd.DataFrame, pipeline):\n",
    "    for i, elem in enumerate(df.Text[30:]):\n",
    "        doc = pipeline(elem)\n",
    "        print(i)\n",
    "        displacy.serve(doc, style=\"ent\")\n",
    "        yield i\n",
    "generator = annotation_generator(to_anotate,nlp)"
   ]
  },
  {
   "cell_type": "code",
   "execution_count": 11,
   "metadata": {},
   "outputs": [
    {
     "name": "stdout",
     "output_type": "stream",
     "text": [
      "2\n"
     ]
    },
    {
     "data": {
      "text/html": [
       "<span class=\"tex2jax_ignore\"><!DOCTYPE html>\n",
       "<html lang=\"en\">\n",
       "    <head>\n",
       "        <title>displaCy</title>\n",
       "    </head>\n",
       "\n",
       "    <body style=\"font-size: 16px; font-family: -apple-system, BlinkMacSystemFont, 'Segoe UI', Helvetica, Arial, sans-serif, 'Apple Color Emoji', 'Segoe UI Emoji', 'Segoe UI Symbol'; padding: 4rem 2rem; direction: ltr\">\n",
       "<figure style=\"margin-bottom: 6rem\">\n",
       "<div class=\"entities\" style=\"line-height: 2.5; direction: ltr\">mner case an oramaniy rast walker could soon distance them The python movements are a little more rapid than the boa but the man escaping from the python could easily keep ahead of him sidestep him as It were and stop and light his pipe to enJoy a smoke while the chase was on Yes the naturalist mused It seems too bad to discredit all the movie stories of these big reptiles told and reiterated long before there were movies it is a shame to take all this additional excitement out of the \n",
       "<mark class=\"entity\" style=\"background: #ff9561; padding: 0.45em 0.6em; margin: 0 0.25em; line-height: 1; border-radius: 0.35em;\">\n",
       "    Jungle\n",
       "    <span style=\"font-size: 0.8em; font-weight: bold; line-height: 1; border-radius: 0.35em; vertical-align: middle; margin-left: 0.5rem\">LOC</span>\n",
       "</mark>\n",
       " but these are the scientific facte And after all let the facts be printed ever so often people will shudder as of old when the returned traveller serves out again the familiar old Ue The boa constrictor appears in several species Inhabiting tropical \n",
       "<mark class=\"entity\" style=\"background: #ff9561; padding: 0.45em 0.6em; margin: 0 0.25em; line-height: 1; border-radius: 0.35em;\">\n",
       "    South America\n",
       "    <span style=\"font-size: 0.8em; font-weight: bold; line-height: 1; border-radius: 0.35em; vertical-align: middle; margin-left: 0.5rem\">LOC</span>\n",
       "</mark>\n",
       " All are slow moving and no species has displayed malice toward man or even revenge unless violently attacked It Is possible that boa would strike out against a man if he came too near but the big snake attitude Is lalstez faire let me alone and I let you alone Also if It came to a chase a fast walker could easily get away from the boa \n",
       "<mark class=\"entity\" style=\"background: #e4e7d2; padding: 0.45em 0.6em; margin: 0 0.25em; line-height: 1; border-radius: 0.35em;\">\n",
       "    One\n",
       "    <span style=\"font-size: 0.8em; font-weight: bold; line-height: 1; border-radius: 0.35em; vertical-align: middle; margin-left: 0.5rem\">CARDINAL</span>\n",
       "</mark>\n",
       " of the constrictor species which grows to the length of \n",
       "<mark class=\"entity\" style=\"background: #e4e7d2; padding: 0.45em 0.6em; margin: 0 0.25em; line-height: 1; border-radius: 0.35em;\">\n",
       "    twelve feet\n",
       "    <span style=\"font-size: 0.8em; font-weight: bold; line-height: 1; border-radius: 0.35em; vertical-align: middle; margin-left: 0.5rem\">QUANTITY</span>\n",
       "</mark>\n",
       " Is fitted Mr</div>\n",
       "</figure>\n",
       "</body>\n",
       "</html></span>"
      ],
      "text/plain": [
       "<IPython.core.display.HTML object>"
      ]
     },
     "metadata": {},
     "output_type": "display_data"
    },
    {
     "name": "stdout",
     "output_type": "stream",
     "text": [
      "\n",
      "Using the 'ent' visualizer\n",
      "Serving on http://0.0.0.0:5000 ...\n",
      "\n",
      "Shutting down server on port 5000.\n"
     ]
    },
    {
     "data": {
      "text/plain": [
       "2"
      ]
     },
     "execution_count": 11,
     "metadata": {},
     "output_type": "execute_result"
    }
   ],
   "source": [
    "next(generator)"
   ]
  },
  {
   "cell_type": "code",
   "execution_count": 45,
   "metadata": {},
   "outputs": [],
   "source": [
    "to_anotate.Text.to_csv('filepath.txt', sep=' ', index=False)\n",
    "def fr_annotation_generator(df):\n",
    "    for i, elem in enumerate(df.Text):\n",
    "        doc = nlp(elem)\n",
    "        print([d[\"word\"] for d in doc if d[\"entity_group\"] ==\"DATE\"])\n",
    "        # displacy.serve(doc, style=\"ent\")\n",
    "        yield i\n",
    "generator = fr_annotation_generator(to_anotate)"
   ]
  },
  {
   "cell_type": "code",
   "execution_count": 71,
   "metadata": {},
   "outputs": [
    {
     "name": "stdout",
     "output_type": "stream",
     "text": [
      "['hier matin']\n"
     ]
    },
    {
     "data": {
      "text/plain": [
       "25"
      ]
     },
     "execution_count": 71,
     "metadata": {},
     "output_type": "execute_result"
    }
   ],
   "source": [
    "next(generator)"
   ]
  }
 ],
 "metadata": {
  "interpreter": {
   "hash": "2c08fb7d0681ab80e3191df3cdd3d9ae56e033f792b7fa01572cc6446116ecae"
  },
  "kernelspec": {
   "display_name": "Python 3.8.12 ('p38')",
   "language": "python",
   "name": "python3"
  },
  "language_info": {
   "codemirror_mode": {
    "name": "ipython",
    "version": 3
   },
   "file_extension": ".py",
   "mimetype": "text/x-python",
   "name": "python",
   "nbconvert_exporter": "python",
   "pygments_lexer": "ipython3",
   "version": "3.8.12"
  },
  "orig_nbformat": 4
 },
 "nbformat": 4,
 "nbformat_minor": 2
}
