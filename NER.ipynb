{
 "cells": [
  {
   "cell_type": "code",
   "execution_count": 1,
   "metadata": {},
   "outputs": [
    {
     "name": "stderr",
     "output_type": "stream",
     "text": [
      "C:\\Users\\bench\\anaconda3\\envs\\p38\\lib\\site-packages\\numpy\\_distributor_init.py:30: UserWarning: loaded more than 1 DLL from .libs:\n",
      "C:\\Users\\bench\\anaconda3\\envs\\p38\\lib\\site-packages\\numpy\\.libs\\libopenblas.PYQHXLVVQ7VESDPUVUADXEVJOBGHJPAY.gfortran-win_amd64.dll\n",
      "C:\\Users\\bench\\anaconda3\\envs\\p38\\lib\\site-packages\\numpy\\.libs\\libopenblas.WCDJNK7YVMPZQ2ME2ZZHJJRJ3JIKNDB7.gfortran-win_amd64.dll\n",
      "  warnings.warn(\"loaded more than 1 DLL from .libs:\\n%s\" %\n"
     ]
    }
   ],
   "source": [
    "# from spacy import load, prefer_gpu \n",
    "from helpers import get_dates_from_file\n",
    "from glob import glob\n",
    "from tqdm import tqdm\n",
    "from datetime import datetime\n",
    "import pandas as pd \n",
    "from spacy import load, prefer_gpu\n",
    "from transformers import AutoTokenizer, AutoModelForTokenClassification\n",
    "from transformers import pipeline\n",
    "# !pip install https://huggingface.co/csae8092/de_MRP_NER/resolve/main/de_MRP_NER-any-py3-none-any.whl --user\n",
    "tokenizer = AutoTokenizer.from_pretrained(\"Jean-Baptiste/camembert-ner-with-dates\")\n",
    "model = AutoModelForTokenClassification.from_pretrained(\"Jean-Baptiste/camembert-ner-with-dates\")\n",
    "prefer_gpu()\n",
    "\n",
    "# Parameters\n",
    "useSpacy = True\n",
    "folder = \"./results/Berlin/1879\"\n",
    "language = \"de\"\n",
    "model_dict = {\n",
    "    \"fr\" : pipeline('ner', model=model, tokenizer=tokenizer, aggregation_strategy=\"simple\", device = 0),\n",
    "    \"de\" : load(\"de_RTA_NER\"),\n",
    "    # \"en\" : load(\"en_core_web_sm\")\n",
    "\n",
    "}\n",
    "\n",
    "nlp = model_dict[language]"
   ]
  },
  {
   "cell_type": "code",
   "execution_count": 2,
   "metadata": {},
   "outputs": [
    {
     "name": "stderr",
     "output_type": "stream",
     "text": [
      "100%|██████████| 363/363 [04:44<00:00,  1.28it/s]\n",
      "100%|██████████| 363/363 [00:02<00:00, 157.45it/s]\n"
     ]
    }
   ],
   "source": [
    "# Compute the results from the previously created files (using fileCreater.ipynb)\n",
    "\n",
    "results = []\n",
    "nb = []\n",
    "for file in tqdm(glob(folder + \"/*/*.csv\")):        # Compute the nb of dates\n",
    "    results.append(get_dates_from_file(file,nlp,useSpacy,rt = 0.75, lt = 15))\n",
    "for file in tqdm(glob(folder + \"/*/*.csv\")): # Get the length of the text from each date\n",
    "    nb.append(pd.read_csv(file)[\"Length\"].sum())\n",
    "df = pd.DataFrame(results, columns = [\"Date\", \"Number of dates\"])\n",
    "\n",
    "\n"
   ]
  },
  {
   "cell_type": "code",
   "execution_count": 5,
   "metadata": {},
   "outputs": [
    {
     "data": {
      "text/plain": [
       "<AxesSubplot:xlabel='Date', ylabel='ratio'>"
      ]
     },
     "execution_count": 5,
     "metadata": {},
     "output_type": "execute_result"
    },
    {
     "data": {
      "image/png": "[encoded data removed]",
      "text/plain": [
       "<Figure size 432x288 with 1 Axes>"
      ]
     },
     "metadata": {
      "needs_background": "light"
     },
     "output_type": "display_data"
    }
   ],
   "source": [
    "# Plotting the results\n",
    "df[\"length\"] = nb\n",
    "df[\"ratio\"] = (df[\"Number of dates\"]/df[\"length\"]).rolling(window = 30).mean() # You can configure the rolling average window size, default 8\n",
    "df.plot(x= \"Date\", y = \"ratio\", kind = \"scatter\", ylim = (0,0.02))"
   ]
  },
  {
   "cell_type": "code",
   "execution_count": null,
   "metadata": {},
   "outputs": [],
   "source": []
  }
 ],
 "metadata": {
  "interpreter": {
   "hash": "29267a2f9a0415807edd32e54430e54481564f4f90864a6d82babf0d08dadda0"
  },
  "kernelspec": {
   "display_name": "Python 3.8.12 ('p38')",
   "language": "python",
   "name": "python3"
  },
  "language_info": {
   "codemirror_mode": {
    "name": "ipython",
    "version": 3
   },
   "file_extension": ".py",
   "mimetype": "text/x-python",
   "name": "python",
   "nbconvert_exporter": "python",
   "pygments_lexer": "ipython3",
   "version": "3.8.12"
  },
  "orig_nbformat": 4
 },
 "nbformat": 4,
 "nbformat_minor": 2
}
