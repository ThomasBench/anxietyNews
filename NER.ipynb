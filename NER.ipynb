{
 "cells": [
  {
   "cell_type": "code",
   "execution_count": 6,
   "metadata": {},
   "outputs": [],
   "source": [
    "# from spacy import load, prefer_gpu \n",
    "from helpers import get_dates_from_file\n",
    "from glob import glob\n",
    "from tqdm import tqdm\n",
    "from datetime import datetime\n",
    "import pandas as pd \n",
    "from spacy import load, prefer_gpu\n",
    "from transformers import AutoTokenizer, AutoModelForTokenClassification\n",
    "from transformers import pipeline\n",
    "tokenizer = AutoTokenizer.from_pretrained(\"Jean-Baptiste/camembert-ner-with-dates\")\n",
    "model = AutoModelForTokenClassification.from_pretrained(\"Jean-Baptiste/camembert-ner-with-dates\")\n",
    "# Parameters\n",
    "useSpacy = True\n",
    "folder = \"./results/NYT/1920\"\n",
    "nlp =  \"\"\n",
    "\n",
    "# Initialise pipeline according to the correct library\n",
    "if useSpacy:\n",
    "    prefer_gpu()\n",
    "    nlp = load(\"en_core_web_sm\")\n",
    "else : \n",
    "    nlp = pipeline('ner', model=model, tokenizer=tokenizer, aggregation_strategy=\"simple\", device = 0)\n",
    "\n"
   ]
  },
  {
   "cell_type": "code",
   "execution_count": 25,
   "metadata": {},
   "outputs": [
    {
     "name": "stderr",
     "output_type": "stream",
     "text": [
      "100%|██████████| 92/92 [00:01<00:00, 72.62it/s]\n"
     ]
    }
   ],
   "source": [
    "# Compute the results from the previously created files (using fileCreater.ipynb)\n",
    "\n",
    "results = []\n",
    "nb = []\n",
    "for file in tqdm(glob(folder + \"/*/*.csv\")):        # Compute the nb of dates\n",
    "    results.append(get_dates_from_file(file,nlp,useSpacy,rt = 0.75, lt = 15))\n",
    "for file in tqdm(glob(folder + \"/*/*.csv\")): # Get the length of the text from each date\n",
    "    nb.append(pd.read_csv(file)[\"Length\"].sum())\n",
    "df = pd.DataFrame(results, columns = [\"Date\", \"Number of dates\"])\n",
    "\n",
    "\n"
   ]
  },
  {
   "cell_type": "code",
   "execution_count": 29,
   "metadata": {},
   "outputs": [
    {
     "data": {
      "text/plain": [
       "<AxesSubplot:xlabel='Date', ylabel='ratio'>"
      ]
     },
     "execution_count": 29,
     "metadata": {},
     "output_type": "execute_result"
    },
    {
     "data": {
      "image/png": "[encoded data removed]",
      "text/plain": [
       "<Figure size 432x288 with 1 Axes>"
      ]
     },
     "metadata": {
      "needs_background": "light"
     },
     "output_type": "display_data"
    }
   ],
   "source": [
    "# Plotting the results\n",
    "df[\"length\"] = nb\n",
    "df[\"ratio\"] = (df[\"Number of dates\"]/df[\"length\"]).rolling(window = 8).mean() # You can configure the rolling average window size, default 8\n",
    "df.plot(x= \"Date\", y = \"ratio\", kind = \"scatter\", ylim = (0,0.02))"
   ]
  },
  {
   "cell_type": "code",
   "execution_count": null,
   "metadata": {},
   "outputs": [],
   "source": []
  }
 ],
 "metadata": {
  "interpreter": {
   "hash": "29267a2f9a0415807edd32e54430e54481564f4f90864a6d82babf0d08dadda0"
  },
  "kernelspec": {
   "display_name": "Python 3.8.12 ('p38')",
   "language": "python",
   "name": "python3"
  },
  "language_info": {
   "codemirror_mode": {
    "name": "ipython",
    "version": 3
   },
   "file_extension": ".py",
   "mimetype": "text/x-python",
   "name": "python",
   "nbconvert_exporter": "python",
   "pygments_lexer": "ipython3",
   "version": "3.8.12"
  },
  "orig_nbformat": 4
 },
 "nbformat": 4,
 "nbformat_minor": 2
}
