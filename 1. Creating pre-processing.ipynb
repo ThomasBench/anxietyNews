{
 "cells": [
  {
   "cell_type": "code",
   "execution_count": 1,
   "metadata": {},
   "outputs": [
    {
     "name": "stderr",
     "output_type": "stream",
     "text": [
      "c:\\Users\\bench\\anaconda3\\envs\\p38\\lib\\site-packages\\numpy\\_distributor_init.py:30: UserWarning: loaded more than 1 DLL from .libs:\n",
      "c:\\Users\\bench\\anaconda3\\envs\\p38\\lib\\site-packages\\numpy\\.libs\\libopenblas.PYQHXLVVQ7VESDPUVUADXEVJOBGHJPAY.gfortran-win_amd64.dll\n",
      "c:\\Users\\bench\\anaconda3\\envs\\p38\\lib\\site-packages\\numpy\\.libs\\libopenblas.WCDJNK7YVMPZQ2ME2ZZHJJRJ3JIKNDB7.gfortran-win_amd64.dll\n",
      "  warnings.warn(\"loaded more than 1 DLL from .libs:\\n%s\" %\n"
     ]
    }
   ],
   "source": [
    "from datetime import datetime\n",
    "from helpers import *"
   ]
  },
  {
   "cell_type": "code",
   "execution_count": null,
   "metadata": {},
   "outputs": [],
   "source": [
    "###############           FIGARO ########################\n",
    "#### FOR A SINGLE date \n",
    "newspaper = Figaro()\n",
    "\n",
    "# Parameters\n",
    "dataFolder = \"./Ressources/Figaro\"\n",
    "date = datetime(1909,1,1) # Year, month, day\n",
    "resultFolder = \"./results\"\n",
    "\n",
    "# newspaper.treatDate(date,dataFolder,resultFolder)\n",
    "for year in range(1874,1898):\n",
    "    print(\"Doing year\", year)\n",
    "    treatYear(newspaper,year,dataFolder, resultFolder)\n",
    "# missing dates : 1898 03 10"
   ]
  },
  {
   "cell_type": "code",
   "execution_count": null,
   "metadata": {},
   "outputs": [],
   "source": [
    "###############           NYT       ########################\n",
    "#### FOR A SINGLE date \n",
    "newspaper = NYH()\n",
    "\n",
    "# Parameters\n",
    "dataFolder = \"./Ressources/NYT\"\n",
    "date = datetime(1920,12,5) # Year, month, day\n",
    "resultFolder = \"./results\"\n",
    "\n",
    "newspaper.treatDate(date,dataFolder,resultFolder)\n",
    "treatYear(newspaper,1920,dataFolder, resultFolder)\n",
    "\n",
    "\n"
   ]
  },
  {
   "cell_type": "code",
   "execution_count": null,
   "metadata": {},
   "outputs": [],
   "source": [
    "###############           EL Imparcial       ########################\n",
    "#### FOR A SINGLE date \n",
    "newspaper = Imparcial()\n",
    "\n",
    "# Parameters\n",
    "dataFolder = \"./Ressources/Imparcial\"\n",
    "date = datetime(1898,1,1) # Year, month, day\n",
    "resultFolder = \"./results\"\n",
    "\n",
    "newspaper.treatDate(date,dataFolder,resultFolder)\n",
    "treatYear(newspaper,1898,dataFolder, resultFolder)\n"
   ]
  },
  {
   "cell_type": "code",
   "execution_count": null,
   "metadata": {},
   "outputs": [],
   "source": [
    "import re \n",
    "from helpers import *\n",
    "import os\n",
    "import enchant\n",
    "from glob import glob\n",
    "dataFolder = \"./Ressources/Berlin\"\n",
    "resultFolder = \"./results\"\n",
    "date = datetime(1879,1,1) # Year, month, day\n",
    "\n",
    "newspaper = Berlin()\n",
    "newspaper.treatDate(date,dataFolder,resultFolder)\n",
    "treatYear(newspaper,1879,dataFolder, resultFolder)\n",
    "\n"
   ]
  },
  {
   "cell_type": "code",
   "execution_count": 20,
   "metadata": {},
   "outputs": [
    {
     "data": {
      "text/plain": [
       "554"
      ]
     },
     "execution_count": 20,
     "metadata": {},
     "output_type": "execute_result"
    }
   ],
   "source": [
    "from calendar import monthrange\n",
    "from os import path\n",
    "def count_missing_dates(result_folder:str,year_range: list):\n",
    "\n",
    "    for year in year_range:\n",
    "        for month in range(1,13):\n",
    "            _ , nb_days = monthrange(year,month)\n",
    "            nb_missing = 0\n",
    "            month_path = result_folder + f\"/{year}/{month}\"\n",
    "            if path.isdir(month_path):\n",
    "                print(month_path)\n",
    "            for day in range(1,nb_days+1):\n",
    "                path = month_path + f\"/{day}\"\n",
    "\n",
    "\n"
   ]
  },
  {
   "cell_type": "code",
   "execution_count": null,
   "metadata": {},
   "outputs": [],
   "source": []
  }
 ],
 "metadata": {
  "interpreter": {
   "hash": "2c08fb7d0681ab80e3191df3cdd3d9ae56e033f792b7fa01572cc6446116ecae"
  },
  "kernelspec": {
   "display_name": "Python 3.8.12 ('p38')",
   "language": "python",
   "name": "python3"
  },
  "language_info": {
   "codemirror_mode": {
    "name": "ipython",
    "version": 3
   },
   "file_extension": ".py",
   "mimetype": "text/x-python",
   "name": "python",
   "nbconvert_exporter": "python",
   "pygments_lexer": "ipython3",
   "version": "3.8.12"
  },
  "orig_nbformat": 4
 },
 "nbformat": 4,
 "nbformat_minor": 2
}
