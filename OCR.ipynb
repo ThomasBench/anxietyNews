{
 "cells": [
  {
   "cell_type": "code",
   "execution_count": 104,
   "metadata": {},
   "outputs": [],
   "source": [
    "import pandas as pd\n",
    "import numpy as np \n",
    "from glob import glob\n",
    "import matplotlib.pyplot as plt \n",
    "import scipy.optimize as opt\n",
    "from sklearn.metrics import r2_score\n",
    "paths = [\n",
    "    \"./results/Berliner/1879\",\n",
    "    \"./results/Figaro/1898\",\n",
    "    \"./results/NYH/1920\",\n",
    "    \"./results/Imparcial/1898\"\n",
    "]\n",
    "newspapers = [path.split(\"/\")[2] for path in paths] \n",
    "dfs = [(get_df_from_path(path),newspapers[i]) for i,path in enumerate(paths)]"
   ]
  },
  {
   "cell_type": "code",
   "execution_count": 119,
   "metadata": {},
   "outputs": [],
   "source": [
    "\n",
    "def get_df_from_path(path):\n",
    "    all_files= glob(path + \"/*/*.csv\")\n",
    "    li = []\n",
    "    for file in all_files:\n",
    "        date = file.split(\"/\")[-1].split(\".\")[0]\n",
    "        temp_df = pd.read_csv(file)\n",
    "        temp_df[\"Date\"] = date\n",
    "        li.append(temp_df)\n",
    "    df = pd.concat(li, axis=0, ignore_index=True)\n",
    "    df = df[(df[\"Length\"] > 0) & (df[\"Ratio\"] > 0 )& (df[\"Ratio\"]<1)]\n",
    "    return df\n",
    "\n",
    "def plot_dfs_hist(dfs):\n",
    "    plt.figure(figsize=(8, 6))\n",
    "\n",
    "    for (df,name) in dfs:\n",
    "        arr = df[\"Ratio\"]\n",
    "        weights = np.ones_like(arr)/float(len(arr))\n",
    "        plt.hist(arr, weights=weights)\n",
    "        # plt.hist(x = df[\"Ratio\"], bins = 20, alpha = 0.4, label = name)\n",
    "    plt.title(\"Distribution of word ratio per newspaper\")\n",
    "    plt.xlabel(\"Word ratio\")\n",
    "    plt.ylabel(\"Frequency\")\n",
    "    plt.legend()\n",
    "    plt.savefig('histo.png')\n",
    "    plt.show()\n",
    "\n",
    "\n",
    "def plot_dfs_wr(dfs):\n",
    "\n",
    "    def f(x,a,b): \n",
    "        if isinstance(x,pd.Series) or isinstance(x,np.ndarray):\n",
    "            y = []\n",
    "            for elem in x:\n",
    "               y.append( a*np.log(elem) + b if elem != 0 else b)\n",
    "            return y\n",
    "        else:\n",
    "            return a*np.log(x) + b if x != 0 else b\n",
    "    \n",
    "    for (df, name )in dfs:\n",
    "        x = df[\"Length\"]\n",
    "        y = df[\"Ratio\"]\n",
    "        a, _ = opt.curve_fit(f,x,y)\n",
    "        y_pred = f(x,a[0], a[1])\n",
    "        r2 = r2_score(y,y_pred)\n",
    "        plt.figure(figsize=(8, 6))\n",
    "\n",
    "        plt.scatter(x = x, y = y,label = name, alpha = 0.3)\n",
    "        x = np.linspace(0, max(x), num=5000)\n",
    "        plt.plot(x, f(x,a[0], a[1]), c = \"red\")\n",
    "        plt.title(f\"Word ratio w.r.t. frequency for the newspaper {name}\")\n",
    "        plt.xlabel(\"Word ratio\")\n",
    "        plt.ylabel(\"Length\")\n",
    "        plt.legend([\"Text Block\", \"regression: $y = log({:0.3f}*x) + {:0.3}\".format(a[0], a[1])])\n",
    "        plt.savefig(f'dwr{name}.png')\n",
    "        print(r2)\n",
    "        plt.show()\n",
    "\n",
    "# path = \"./results/NYH/1920\"\n",
    "# df = get_df_from_path(path)\n",
    "# df"
   ]
  },
  {
   "cell_type": "code",
   "execution_count": 120,
   "metadata": {},
   "outputs": [
    {
     "data": {
      "image/png": "[encoded data removed]",
      "text/plain": [
       "<Figure size 576x432 with 1 Axes>"
      ]
     },
     "metadata": {
      "needs_background": "light"
     },
     "output_type": "display_data"
    }
   ],
   "source": [
    "\n",
    "# plot_dfs_wr(dfs)\n",
    "plot_dfs_hist(dfs)"
   ]
  },
  {
   "cell_type": "code",
   "execution_count": 4,
   "metadata": {},
   "outputs": [],
   "source": [
    "path = \"./results/NYT/1920\"\n",
    "df = get_df_from_path(path)\n",
    "bad = df[(df[\"Ratio\"] < 0.6) & (df[\"Length\"] > 20)][[\"Text\", 'Date']]\n",
    "bad.to_csv(\"bad_ocr.txt\", index= False)"
   ]
  },
  {
   "cell_type": "code",
   "execution_count": null,
   "metadata": {},
   "outputs": [],
   "source": []
  }
 ],
 "metadata": {
  "interpreter": {
   "hash": "2c08fb7d0681ab80e3191df3cdd3d9ae56e033f792b7fa01572cc6446116ecae"
  },
  "kernelspec": {
   "display_name": "Python 3.8.12 ('p38')",
   "language": "python",
   "name": "python3"
  },
  "language_info": {
   "codemirror_mode": {
    "name": "ipython",
    "version": 3
   },
   "file_extension": ".py",
   "mimetype": "text/x-python",
   "name": "python",
   "nbconvert_exporter": "python",
   "pygments_lexer": "ipython3",
   "version": "3.8.12"
  },
  "orig_nbformat": 4
 },
 "nbformat": 4,
 "nbformat_minor": 2
}
